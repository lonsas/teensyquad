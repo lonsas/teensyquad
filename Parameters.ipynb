{
 "cells": [
  {
   "cell_type": "code",
   "execution_count": 6,
   "metadata": {},
   "outputs": [],
   "source": [
    "import numpy as np\n",
    "from math import *"
   ]
  },
  {
   "cell_type": "code",
   "execution_count": 2,
   "metadata": {},
   "outputs": [
    {
     "name": "stdout",
     "output_type": "stream",
     "text": [
      "[[0.0027427500000000004, 0, 0], [0, 0.0022627500000000004, 0], [0, 0, 0.0039375]]\n"
     ]
    }
   ],
   "source": [
    "# Calculate for known masses\n",
    "#^y\n",
    "#|\n",
    "#|-->x\n",
    "m_bat = 0.1 #kg\n",
    "m_motor = 0.0275 #kg\n",
    "m_chassi = 0.250 #kg\n",
    "l_x_arm = 0.125 #m\n",
    "l_y_arm = 0.125 #m\n",
    "l_z_arm = 0.02 #m\n",
    "l_x_bat = 0.01 #m\n",
    "l_y_bat = 0.07 #m\n",
    "l_z_bat = 0.07 #m\n",
    "\n",
    "#I_x_tot = m_bat*l_x_bat + 4*m_motor*l_arm\n",
    "#I_y_tot = m_bat*l_y_bat + 4*m_motor*l_arm + l_arm/2 * m_chassi\n",
    "#I_z_tot = m_bat*l_z_bat + 4*m_motor*l_arm + l_arm/2 * m_chassi\n",
    "I_xx = (m_bat * (l_y_bat**2 + l_z_bat**2)) + (m_motor * 4 * (l_y_arm**2 + l_z_arm**2))\n",
    "I_yy = (m_bat * (l_x_bat**2 + l_z_bat**2)) + (m_motor * 4 * (l_x_arm**2 + l_z_arm**2))\n",
    "I_zz = (m_bat * (l_x_bat**2 + l_y_bat**2)) + (m_motor * 4 * (l_x_arm**2 + l_y_arm**2))\n",
    "I_xy = 0#- ((m_bat * l_x_bat * l_y_bat) + (m_motor * 4 * l_x_arm * l_y_arm))\n",
    "I_xz = 0#- ((m_bat * l_x_bat * l_z_bat) + (m_motor * 4 * l_x_arm * l_z_arm))\n",
    "I_yz = 0#- ((m_bat * l_y_bat * l_z_bat) + (m_motor * 4 * l_y_arm * l_z_arm))\n",
    "\n",
    "I = [[I_xx, I_xy, I_xz],\n",
    "     [I_xy, I_yy, I_yz],\n",
    "     [I_xz, I_yz, I_zz]]\n",
    "print(I)\n"
   ]
  },
  {
   "cell_type": "code",
   "execution_count": 24,
   "metadata": {},
   "outputs": [
    {
     "name": "stdout",
     "output_type": "stream",
     "text": [
      "[[0.00178117 0.         0.        ]\n",
      " [0.         0.00257335 0.        ]\n",
      " [0.         0.         0.00257335]]\n"
     ]
    }
   ],
   "source": [
    "# Calculate with pendulum test\n",
    "g = 9.82\n",
    "m = 0.5 #kg\n",
    "time = 10 #s\n",
    "#Roll\n",
    "osc = np.array([14, 13, 13])\n",
    "cm_d_p = np.array([0.075, 0.09, 0.09]) #m\n",
    "cm_d = np.array([sqrt(0.075**2 + 0.04**2), 0.09, 0.09]) #m\n",
    "\n",
    "omega = 2*pi*osc/time\n",
    "\n",
    "# Pendulum\n",
    "#omega = sqrt(m*g*r/I)\n",
    "#I = m*g*r/omega**2\n",
    "\n",
    "# Parallell Axis\n",
    "#I = I_cm + m*r^2\n",
    "#I_cm = I - m*r^2\n",
    "#I_cm = m*g*r/omega**2 - m*r^2\n",
    "\n",
    "I_cm = m*g*cm_d/omega**2 - m*cm_d**2\n",
    "\n",
    "I = np.diag(I_cm)\n",
    "print(I)\n"
   ]
  }
 ],
 "metadata": {
  "kernelspec": {
   "display_name": "Python 3",
   "language": "python",
   "name": "python3"
  },
  "language_info": {
   "codemirror_mode": {
    "name": "ipython",
    "version": 3
   },
   "file_extension": ".py",
   "mimetype": "text/x-python",
   "name": "python",
   "nbconvert_exporter": "python",
   "pygments_lexer": "ipython3",
   "version": "3.6.5"
  }
 },
 "nbformat": 4,
 "nbformat_minor": 2
}
